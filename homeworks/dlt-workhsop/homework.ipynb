{
  "nbformat": 4,
  "nbformat_minor": 0,
  "metadata": {
    "colab": {
      "provenance": []
    },
    "kernelspec": {
      "name": "python3",
      "display_name": "Python 3"
    },
    "language_info": {
      "name": "python"
    }
  },
  "cells": [
    {
      "cell_type": "markdown",
      "source": [
        "# **Homework solution**: Data talks club data engineering zoomcamp Data loading workshop\n",
        "\n",
        "Course materials could be found via links:\n",
        "- [homework starter](https://github.com/DataTalksClub/data-engineering-zoomcamp/blob/main/cohorts/2024/workshops/dlt_resources/homework_starter.ipynb)\n",
        "- [course itself ](https://github.com/DataTalksClub/data-engineering-zoomcamp/tree/main)\n",
        "\n"
      ],
      "metadata": {
        "id": "mrTFv5nPClXh"
      }
    },
    {
      "cell_type": "markdown",
      "source": [
        "### Setup"
      ],
      "metadata": {
        "id": "m_QcE1qYFGSC"
      }
    },
    {
      "cell_type": "code",
      "source": [
        "%%capture\n",
        "!pip install dlt[duckdb]"
      ],
      "metadata": {
        "id": "xTVvtyqrfVNq"
      },
      "execution_count": 1,
      "outputs": []
    },
    {
      "cell_type": "code",
      "source": [
        "import dlt\n",
        "import duckdb"
      ],
      "metadata": {
        "id": "TKTZuyl-Ezki"
      },
      "execution_count": 2,
      "outputs": []
    },
    {
      "cell_type": "markdown",
      "source": [
        "### Task 1\n",
        "\n",
        "Answer the following questions:\n",
        "\n",
        "- Question 1: What is the sum of the outputs of the generator for limit = 5?\n",
        "- Question 2: What is the 13th number yielded"
      ],
      "metadata": {
        "id": "iONM0Cf98JCE"
      }
    },
    {
      "cell_type": "code",
      "source": [
        "def square_root_generator(limit):\n",
        "    n = 1\n",
        "    while n <= limit:\n",
        "        yield n ** 0.5\n",
        "        n += 1"
      ],
      "metadata": {
        "id": "wLng-bDJN4jf"
      },
      "execution_count": 3,
      "outputs": []
    },
    {
      "cell_type": "code",
      "source": [
        "print(sum(square_root_generator(limit=5)))"
      ],
      "metadata": {
        "id": "a2-PRBAkGC2K",
        "colab": {
          "base_uri": "https://localhost:8080/"
        },
        "outputId": "6b9daf7d-8f25-418a-f9ee-8a0df99f30ae"
      },
      "execution_count": 4,
      "outputs": [
        {
          "output_type": "stream",
          "name": "stdout",
          "text": [
            "8.382332347441762\n"
          ]
        }
      ]
    },
    {
      "cell_type": "code",
      "source": [
        "for index, value in enumerate(square_root_generator(limit=13)):\n",
        "    print(f'{index + 1}: {value}')"
      ],
      "metadata": {
        "colab": {
          "base_uri": "https://localhost:8080/"
        },
        "id": "ZWQPzzTo8EQX",
        "outputId": "748b7006-1b89-43eb-fe9e-59e8d2e704aa"
      },
      "execution_count": 5,
      "outputs": [
        {
          "output_type": "stream",
          "name": "stdout",
          "text": [
            "1: 1.0\n",
            "2: 1.4142135623730951\n",
            "3: 1.7320508075688772\n",
            "4: 2.0\n",
            "5: 2.23606797749979\n",
            "6: 2.449489742783178\n",
            "7: 2.6457513110645907\n",
            "8: 2.8284271247461903\n",
            "9: 3.0\n",
            "10: 3.1622776601683795\n",
            "11: 3.3166247903554\n",
            "12: 3.4641016151377544\n",
            "13: 3.605551275463989\n"
          ]
        }
      ]
    },
    {
      "cell_type": "markdown",
      "source": [
        "### Task 2\n",
        "\n",
        "Load generators to duckdb and answer some questions from the data\n",
        "\n",
        "1. Load the first generator and calculate the sum of ages of all people. Make sure to only load it once.\n",
        "2. Append the second generator to the same table as the first.\n",
        "3. **After correctly appending the data, calculate the sum of all ages of people.**\n",
        "\n",
        "\n"
      ],
      "metadata": {
        "id": "vjWhILzGJMpK"
      }
    },
    {
      "cell_type": "code",
      "execution_count": 6,
      "metadata": {
        "colab": {
          "base_uri": "https://localhost:8080/"
        },
        "id": "2MoaQcdLBEk6",
        "outputId": "3ccf8046-f7ae-4da5-9051-d7751e3f3cfe"
      },
      "outputs": [
        {
          "output_type": "stream",
          "name": "stdout",
          "text": [
            "{'ID': 1, 'Name': 'Person_1', 'Age': 26, 'City': 'City_A'}\n",
            "{'ID': 2, 'Name': 'Person_2', 'Age': 27, 'City': 'City_A'}\n",
            "{'ID': 3, 'Name': 'Person_3', 'Age': 28, 'City': 'City_A'}\n",
            "{'ID': 4, 'Name': 'Person_4', 'Age': 29, 'City': 'City_A'}\n",
            "{'ID': 5, 'Name': 'Person_5', 'Age': 30, 'City': 'City_A'}\n",
            "-----------------\n",
            "{'ID': 3, 'Name': 'Person_3', 'Age': 33, 'City': 'City_B', 'Occupation': 'Job_3'}\n",
            "{'ID': 4, 'Name': 'Person_4', 'Age': 34, 'City': 'City_B', 'Occupation': 'Job_4'}\n",
            "{'ID': 5, 'Name': 'Person_5', 'Age': 35, 'City': 'City_B', 'Occupation': 'Job_5'}\n",
            "{'ID': 6, 'Name': 'Person_6', 'Age': 36, 'City': 'City_B', 'Occupation': 'Job_6'}\n",
            "{'ID': 7, 'Name': 'Person_7', 'Age': 37, 'City': 'City_B', 'Occupation': 'Job_7'}\n",
            "{'ID': 8, 'Name': 'Person_8', 'Age': 38, 'City': 'City_B', 'Occupation': 'Job_8'}\n"
          ]
        }
      ],
      "source": [
        "def people_1():\n",
        "    for i in range(1, 6):\n",
        "        yield {\"ID\": i, \"Name\": f\"Person_{i}\", \"Age\": 25 + i, \"City\": \"City_A\"}\n",
        "\n",
        "for person in people_1():\n",
        "    print(person)\n",
        "\n",
        "\n",
        "print('-----------------')\n",
        "\n",
        "def people_2():\n",
        "    for i in range(3, 9):\n",
        "        yield {\"ID\": i, \"Name\": f\"Person_{i}\", \"Age\": 30 + i, \"City\": \"City_B\", \"Occupation\": f\"Job_{i}\"}\n",
        "\n",
        "\n",
        "for person in people_2():\n",
        "    print(person)\n"
      ]
    },
    {
      "cell_type": "code",
      "source": [
        "people_pipeline = dlt.pipeline(destination='duckdb', dataset_name='people_gen')\n",
        "\n",
        "info = people_pipeline.run(\n",
        "    people_1(),\n",
        "    table_name='people',\n",
        "    write_disposition='replace'\n",
        ")\n",
        "\n",
        "print(info)\n",
        "\n",
        "print('------------------')\n",
        "\n",
        "info = people_pipeline.run(\n",
        "    people_2(),\n",
        "    table_name='people',\n",
        "    write_disposition='append'\n",
        ")\n",
        "\n",
        "print(info)"
      ],
      "metadata": {
        "colab": {
          "base_uri": "https://localhost:8080/"
        },
        "id": "pU24WPd9AstJ",
        "outputId": "1d024f1d-1fee-4b3f-abf4-d3d63b22d3e0"
      },
      "execution_count": 7,
      "outputs": [
        {
          "output_type": "stream",
          "name": "stdout",
          "text": [
            "Pipeline dlt_colab_kernel_launcher load step completed in 0.35 seconds\n",
            "1 load package(s) were loaded to destination duckdb and into dataset people_gen\n",
            "The duckdb destination used duckdb:////content/dlt_colab_kernel_launcher.duckdb location to store data\n",
            "Load package 1707637510.2800767 is LOADED and contains no failed jobs\n",
            "------------------\n",
            "Pipeline dlt_colab_kernel_launcher load step completed in 0.26 seconds\n",
            "1 load package(s) were loaded to destination duckdb and into dataset people_gen\n",
            "The duckdb destination used duckdb:////content/dlt_colab_kernel_launcher.duckdb location to store data\n",
            "Load package 1707637511.0903938 is LOADED and contains no failed jobs\n"
          ]
        }
      ]
    },
    {
      "cell_type": "code",
      "source": [
        "conn = duckdb.connect(f'{people_pipeline.pipeline_name}.duckdb')\n",
        "conn.sql(f\"SET search_path = '{people_pipeline.dataset_name}'\")\n",
        "\n",
        "people_ages = conn.sql('SELECT SUM(age) FROM people');\n",
        "display(people_ages)"
      ],
      "metadata": {
        "colab": {
          "base_uri": "https://localhost:8080/",
          "height": 121
        },
        "id": "hQgKYKFI8hPI",
        "outputId": "cbd5582f-325c-402e-8c7f-efa306e482f1"
      },
      "execution_count": 8,
      "outputs": [
        {
          "output_type": "display_data",
          "data": {
            "text/plain": [
              "┌──────────┐\n",
              "│ sum(age) │\n",
              "│  int128  │\n",
              "├──────────┤\n",
              "│      353 │\n",
              "└──────────┘"
            ]
          },
          "metadata": {}
        }
      ]
    },
    {
      "cell_type": "markdown",
      "source": [
        "### Task 3. Merge a generator\n",
        "\n",
        "Re-use the generators from Exercise 2.\n",
        "\n",
        "A table's primary key needs to be created from the start, so load your data to a new table with primary key ID.\n",
        "\n",
        "Load your first generator first, and then load the second one with merge. Since they have overlapping IDs, some of the records from the first load should be replaced by the ones from the second load.\n",
        "\n",
        "After loading, you should have a total of 8 records, and ID 3 should have age 33.\n",
        "\n",
        "Question: **Calculate the sum of ages of all the people loaded as described above.**\n"
      ],
      "metadata": {
        "id": "pY4cFAWOSwN1"
      }
    },
    {
      "cell_type": "code",
      "source": [
        "info = people_pipeline.run(\n",
        "    people_1(),\n",
        "    table_name='people_merged',\n",
        "    write_disposition='replace',\n",
        "    primary_key='ID'\n",
        ")\n",
        "\n",
        "print(info)\n",
        "\n",
        "info = people_pipeline.run(\n",
        "    people_2(),\n",
        "    table_name='people_merged',\n",
        "    write_disposition='merge',\n",
        "    primary_key='ID'\n",
        ")\n",
        "\n",
        "print(info)"
      ],
      "metadata": {
        "colab": {
          "base_uri": "https://localhost:8080/"
        },
        "id": "6alX5AsK8jgV",
        "outputId": "813b6b1c-d83b-4d57-d419-f382d570aa83"
      },
      "execution_count": 9,
      "outputs": [
        {
          "output_type": "stream",
          "name": "stdout",
          "text": [
            "Pipeline dlt_colab_kernel_launcher load step completed in 0.26 seconds\n",
            "1 load package(s) were loaded to destination duckdb and into dataset people_gen\n",
            "The duckdb destination used duckdb:////content/dlt_colab_kernel_launcher.duckdb location to store data\n",
            "Load package 1707637511.9054585 is LOADED and contains no failed jobs\n",
            "Pipeline dlt_colab_kernel_launcher load step completed in 0.38 seconds\n",
            "1 load package(s) were loaded to destination duckdb and into dataset people_gen\n",
            "The duckdb destination used duckdb:////content/dlt_colab_kernel_launcher.duckdb location to store data\n",
            "Load package 1707637512.6026218 is LOADED and contains no failed jobs\n"
          ]
        }
      ]
    },
    {
      "cell_type": "code",
      "source": [
        "people_count = conn.sql('SELECT COUNT(*) FROM people_merged').fetchone()\n",
        "person_3_age = conn.sql('SELECT age FROM people_merged WHERE ID = 3').fetchone()\n",
        "\n",
        "assert people_count[0] == 8\n",
        "assert person_3_age[0] == 33\n"
      ],
      "metadata": {
        "id": "AYAso96_GBYP"
      },
      "execution_count": 10,
      "outputs": []
    },
    {
      "cell_type": "code",
      "source": [
        "people_ages_sum = conn.sql('SELECT SUM(age) FROM people_merged')\n",
        "display(people_ages_sum)"
      ],
      "metadata": {
        "colab": {
          "base_uri": "https://localhost:8080/",
          "height": 121
        },
        "id": "0LZXtibtH0Uw",
        "outputId": "329ee916-15c5-463f-8fe8-79bff7e4c5c9"
      },
      "execution_count": 11,
      "outputs": [
        {
          "output_type": "display_data",
          "data": {
            "text/plain": [
              "┌──────────┐\n",
              "│ sum(age) │\n",
              "│  int128  │\n",
              "├──────────┤\n",
              "│      266 │\n",
              "└──────────┘"
            ]
          },
          "metadata": {}
        }
      ]
    }
  ]
}